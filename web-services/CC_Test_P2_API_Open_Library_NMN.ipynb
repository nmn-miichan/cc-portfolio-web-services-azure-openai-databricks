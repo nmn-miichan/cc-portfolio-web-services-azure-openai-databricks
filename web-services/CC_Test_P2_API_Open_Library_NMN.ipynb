{
 "cells": [
  {
   "cell_type": "code",
   "execution_count": 1,
   "metadata": {},
   "outputs": [],
   "source": [
    "import requests"
   ]
  },
  {
   "cell_type": "code",
   "execution_count": 2,
   "metadata": {},
   "outputs": [],
   "source": [
    "url_1 = \"https://openlibrary.org/api/books?bibkeys=ISBN:9781108491457&jscmd=details&format=json\""
   ]
  },
  {
   "cell_type": "code",
   "execution_count": 3,
   "metadata": {},
   "outputs": [],
   "source": [
    "payload = {}\n",
    "headers = {}"
   ]
  },
  {
   "cell_type": "code",
   "execution_count": 4,
   "metadata": {},
   "outputs": [],
   "source": [
    "response_1 = requests.request(\"GET\", url_1, headers=headers, data=payload)"
   ]
  },
  {
   "cell_type": "code",
   "execution_count": 5,
   "metadata": {},
   "outputs": [
    {
     "name": "stdout",
     "output_type": "stream",
     "text": [
      "{\"ISBN:9781108491457\": {\"bib_key\": \"ISBN:9781108491457\", \"info_url\": \"https://openlibrary.org/books/OL34781685M/Quantum_Internet\", \"preview\": \"noview\", \"preview_url\": \"https://openlibrary.org/books/OL34781685M/Quantum_Internet\", \"details\": {\"type\": {\"key\": \"/type/edition\"}, \"authors\": [{\"key\": \"/authors/OL5316574A\", \"name\": \"Peter P. Rohde\"}], \"isbn_13\": [\"9781108491457\"], \"languages\": [{\"key\": \"/languages/eng\"}], \"publish_date\": \"2021\", \"publishers\": [\"University of Cambridge ESOL Examinations\"], \"source_records\": [\"bwb:9781108491457\"], \"title\": \"Quantum Internet\", \"pagination\": \"300\", \"subtitle\": \"The Second Quantum Revolution\", \"full_title\": \"Quantum Internet The Second Quantum Revolution\", \"works\": [{\"key\": \"/works/OL25800800W\"}], \"key\": \"/books/OL34781685M\", \"latest_revision\": 1, \"revision\": 1, \"created\": {\"type\": \"/type/datetime\", \"value\": \"2021-10-08T00:56:13.055059\"}, \"last_modified\": {\"type\": \"/type/datetime\", \"value\": \"2021-10-08T00:56:13.055059\"}}}}\n"
     ]
    }
   ],
   "source": [
    "print(response_1.text)"
   ]
  },
  {
   "cell_type": "markdown",
   "metadata": {},
   "source": [
    "### 1. What is the title and subtitle of the book with ISBN '978-1108491457'?\n",
    "Title: Quantum Internet\n",
    "\n",
    "Subtitle: The Second Quantum Revolution\n"
   ]
  },
  {
   "cell_type": "markdown",
   "metadata": {},
   "source": [
    "### 2. What is the name of the author?\n",
    "Peter P. Rohde"
   ]
  },
  {
   "cell_type": "code",
   "execution_count": 6,
   "metadata": {},
   "outputs": [],
   "source": [
    "url_2 = \"https://openlibrary.org/search/authors.json?q=marko luksa\""
   ]
  },
  {
   "cell_type": "code",
   "execution_count": 7,
   "metadata": {},
   "outputs": [],
   "source": [
    "response_2 = requests.request(\"GET\", url_2, headers=headers, data=payload)"
   ]
  },
  {
   "cell_type": "code",
   "execution_count": 8,
   "metadata": {},
   "outputs": [
    {
     "name": "stdout",
     "output_type": "stream",
     "text": [
      "{\"numFound\": 1, \"start\": 0, \"numFoundExact\": true, \"docs\": [{\"key\": \"OL7495503A\", \"name\": \"Marko Luksa\", \"top_subjects\": [\"Electronic data processing, distributed processing\", \"Application software, development\"], \"top_work\": \"Kubernetes in Action\", \"type\": \"author\", \"work_count\": 6, \"_version_\": 1796076056192483336}]}\n"
     ]
    }
   ],
   "source": [
    "print(response_2.text)"
   ]
  },
  {
   "cell_type": "code",
   "execution_count": 9,
   "metadata": {},
   "outputs": [],
   "source": [
    "url_3 = \"https://openlibrary.org/authors/OL7495503A/works.json\""
   ]
  },
  {
   "cell_type": "code",
   "execution_count": 10,
   "metadata": {},
   "outputs": [],
   "source": [
    "response_3 = requests.request(\"GET\", url_3, headers=headers, data=payload)"
   ]
  },
  {
   "cell_type": "code",
   "execution_count": 11,
   "metadata": {},
   "outputs": [
    {
     "name": "stdout",
     "output_type": "stream",
     "text": [
      "{\"links\": {\"self\": \"/authors/OL7495503A/works.json\", \"author\": \"/authors/OL7495503A\"}, \"size\": 2, \"entries\": [{\"type\": {\"key\": \"/type/work\"}, \"title\": \"Kubernetes in Action, Second Edition\", \"authors\": [{\"type\": {\"key\": \"/type/author_role\"}, \"author\": {\"key\": \"/authors/OL7495503A\"}}], \"key\": \"/works/OL28417305W\", \"covers\": [13803594], \"latest_revision\": 2, \"revision\": 2, \"created\": {\"type\": \"/type/datetime\", \"value\": \"2022-07-19T23:48:40.645032\"}, \"last_modified\": {\"type\": \"/type/datetime\", \"value\": \"2023-04-02T18:13:15.303455\"}}, {\"title\": \"Kubernetes in Action\", \"covers\": [8509009], \"key\": \"/works/OL19542950W\", \"authors\": [{\"type\": {\"key\": \"/type/author_role\"}, \"author\": {\"key\": \"/authors/OL7495503A\"}}], \"type\": {\"key\": \"/type/work\"}, \"subjects\": [\"Application software, development\", \"Electronic data processing, distributed processing\"], \"latest_revision\": 2, \"revision\": 2, \"created\": {\"type\": \"/type/datetime\", \"value\": \"2019-04-05T02:02:36.076387\"}, \"last_modified\": {\"type\": \"/type/datetime\", \"value\": \"2021-10-05T20:20:59.808403\"}}]}\n"
     ]
    }
   ],
   "source": [
    "print(response_3.text)"
   ]
  },
  {
   "cell_type": "markdown",
   "metadata": {},
   "source": [
    "### 3. What is the top work of the author 'Marko Luksa' and how many books has he written?\n",
    "Top work: Kubernetes in Action\n",
    "\n",
    "He has written 2 books."
   ]
  },
  {
   "cell_type": "markdown",
   "metadata": {},
   "source": [
    "### 4. What are the titles of his books?\n",
    "Kubernetes in Action\n",
    "\n",
    "Kubernetes in Action, Second Edition"
   ]
  }
 ],
 "metadata": {
  "kernelspec": {
   "display_name": ".venv",
   "language": "python",
   "name": "python3"
  },
  "language_info": {
   "codemirror_mode": {
    "name": "ipython",
    "version": 3
   },
   "file_extension": ".py",
   "mimetype": "text/x-python",
   "name": "python",
   "nbconvert_exporter": "python",
   "pygments_lexer": "ipython3",
   "version": "3.12.6"
  }
 },
 "nbformat": 4,
 "nbformat_minor": 2
}
