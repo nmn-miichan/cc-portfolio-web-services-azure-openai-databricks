{
 "cells": [
  {
   "cell_type": "code",
   "execution_count": 1,
   "metadata": {},
   "outputs": [],
   "source": [
    "import requests"
   ]
  },
  {
   "cell_type": "code",
   "execution_count": 2,
   "metadata": {},
   "outputs": [],
   "source": [
    "url = \"https://aviationweather.gov/api/data/airport?ids=EDDH\""
   ]
  },
  {
   "cell_type": "code",
   "execution_count": 3,
   "metadata": {},
   "outputs": [],
   "source": [
    "payload = {}\n",
    "headers = {}"
   ]
  },
  {
   "cell_type": "code",
   "execution_count": 4,
   "metadata": {},
   "outputs": [],
   "source": [
    "response = requests.request(\"GET\", url, headers=headers, data=payload)"
   ]
  },
  {
   "cell_type": "code",
   "execution_count": 5,
   "metadata": {},
   "outputs": [
    {
     "name": "stdout",
     "output_type": "stream",
     "text": [
      "AIRPORT INFO for 19836\n",
      "  Name: HAMBURG AIRPORT\n",
      "  IATA: HAM\n",
      "  Type: ARP\n",
      "  Latitude: 53.6318\n",
      "  Longitude: 9.9951\n",
      "  Elevation: 8\n",
      "  Source: Intl\n",
      "  State: -\n",
      "  Country: DE\n",
      "  Mag Declination: 2E\n",
      "  Use: P\n",
      "  Services: S\n",
      "  Tower: T\n",
      "  Beacon: B\n",
      "  Passengers: 11090\n",
      "  Runways\n",
      "     Number: 2\n",
      "     Length: L\n",
      "     Type: H\n",
      "     Runway: 15/33 Dimension: 12024x150 Surface: Hi Align: 150\n",
      "     Runway: 05/23 Dimension: 10663x150 Surface: H Align: 48\n",
      "\n"
     ]
    }
   ],
   "source": [
    "print(response.text)"
   ]
  },
  {
   "cell_type": "markdown",
   "metadata": {},
   "source": [
    "### 1. What is the name of the airport? \n",
    "HAMBURG AIRPORT\n"
   ]
  },
  {
   "cell_type": "markdown",
   "metadata": {},
   "source": [
    "### 2. What is the IATA code of the airport? \n",
    "HAM"
   ]
  },
  {
   "cell_type": "markdown",
   "metadata": {},
   "source": [
    "### 3. What is the geolocation (longitude/latitude) of the airport? \n",
    "Longitude: 9.9951\n",
    "\n",
    "Latitude: 53.6318"
   ]
  },
  {
   "cell_type": "markdown",
   "metadata": {},
   "source": [
    "### 4. How many runways does the airport have? \n",
    "Two (15/33 and 05/23)"
   ]
  }
 ],
 "metadata": {
  "kernelspec": {
   "display_name": ".venv",
   "language": "python",
   "name": "python3"
  },
  "language_info": {
   "codemirror_mode": {
    "name": "ipython",
    "version": 3
   },
   "file_extension": ".py",
   "mimetype": "text/x-python",
   "name": "python",
   "nbconvert_exporter": "python",
   "pygments_lexer": "ipython3",
   "version": "3.12.6"
  }
 },
 "nbformat": 4,
 "nbformat_minor": 2
}
